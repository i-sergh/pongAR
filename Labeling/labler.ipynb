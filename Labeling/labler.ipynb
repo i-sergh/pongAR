{
 "cells": [
  {
   "cell_type": "code",
   "execution_count": 1,
   "id": "adc50208",
   "metadata": {},
   "outputs": [],
   "source": [
    "import numpy as np\n",
    "import cv2"
   ]
  },
  {
   "cell_type": "code",
   "execution_count": 2,
   "id": "65f15d5b",
   "metadata": {},
   "outputs": [],
   "source": [
    "import matplotlib.pyplot as plt\n",
    "from matplotlib.colors import ListedColormap"
   ]
  },
  {
   "cell_type": "code",
   "execution_count": 3,
   "id": "908fb2dd",
   "metadata": {},
   "outputs": [],
   "source": [
    "from random import randint\n",
    "import os"
   ]
  },
  {
   "cell_type": "code",
   "execution_count": 4,
   "id": "ca77ed60",
   "metadata": {},
   "outputs": [],
   "source": [
    "from IPython.display import display\n",
    "from ipywidgets import IntSlider"
   ]
  },
  {
   "cell_type": "code",
   "execution_count": 5,
   "id": "481137bc",
   "metadata": {},
   "outputs": [],
   "source": [
    "%matplotlib notebook"
   ]
  },
  {
   "cell_type": "code",
   "execution_count": 50,
   "id": "10b0d686",
   "metadata": {},
   "outputs": [],
   "source": [
    "class Labler:\n",
    "    def __init__(self, path=None):\n",
    "        self.path = path\n",
    "        self.img_label_dict = {}\n",
    "        self.img_raw_dict = {}\n",
    "        self.mask_label_dict = {}\n",
    "        self.img_list = []\n",
    "        self.iter = 0\n",
    "        \n",
    "    def get_img_list(self):\n",
    "        self.img_list = os.listdir(self.path)\n",
    "    \n",
    "    def create_label_arrays(self):\n",
    "        for filename in os.listdir(self.path):\n",
    "            if filename[-4:] == '.jpg':\n",
    "                self.img_list += [filename]\n",
    "                raw_img = cv2.imread(self.path + \"\\\\\" + filename)\n",
    "                raw_img = cv2.resize(raw_img, dsize=(int(raw_img.shape[0]/2), int(raw_img.shape[1]/2)), interpolation=cv2.INTER_CUBIC)\n",
    "                self.img_raw_dict[filename] = raw_img\n",
    "                self.img_label_dict[filename] = raw_img\n",
    "                self.mask_label_dict[filename] = np.zeros((raw_img.shape[0], raw_img.shape[1]), dtype=np.uint8()) \n",
    "    \n",
    "    def get_list_len (self):\n",
    "        return len(self.img_list) - 1\n",
    "    \n",
    "    def get_img (self):\n",
    "        return self.img_raw_dict[img_list[self.iter]]\n",
    "    \n",
    "    def get_label_img (self):\n",
    "        return self.img_label_dict[img_list[self.iter]] \n",
    "    def change_iter(self, new_iter):\n",
    "        self.iter = new_iter\n",
    "    def find_contours(self, low, high):\n",
    "        for img_name in self.img_list:\n",
    "            findAndDrawContour( self.img_raw_dict[img_name],self.img_label_dict[img_name], low, high)\n",
    "            \n",
    "    def show_img(self, and_label = False):\n",
    "        \n",
    "        cv2.imshow('', self.img_raw_dict[self.img_list[self.iter]])\n",
    "        if and_label:\n",
    "            cv2.imshow(' ', self.img_label_dict[self.img_list[self.iter]] )\n",
    "        cv2.waitKey(1)\n",
    "                      \n",
    "                \n",
    "l = Labler('raw_data')\n",
    "l.create_label_arrays()\n",
    "l.find_contours(( 0, 150 ,80), (15, 255, 255 ))\n",
    "l.find_contours(( 160, 150 ,80), (180, 255, 255 ))\n",
    "#for name in l.img_list:\n",
    "#    cv2.imshow(name, l.img_label_dict[name] )\n",
    "#    cv2.waitKey(0)\n",
    "#    cv2.destroyAllWindows()"
   ]
  },
  {
   "cell_type": "code",
   "execution_count": 41,
   "id": "9def5208",
   "metadata": {},
   "outputs": [],
   "source": [
    "cv2.destroyAllWindows()"
   ]
  },
  {
   "cell_type": "code",
   "execution_count": 45,
   "id": "ccdbc5eb",
   "metadata": {},
   "outputs": [],
   "source": [
    "def findAndDrawContour(img_bgr: np.array, img_out: np.array, \n",
    "                         clr_low: tuple, clr_high: tuple):\n",
    "    img_bgr_blur = cv2.blur( img_bgr, (30, 30) )\n",
    "    img_hsv = cv2.cvtColor( img_bgr_blur,\n",
    "                              cv2.COLOR_BGR2HSV )\n",
    "    mask = cv2.inRange(img_hsv, clr_low, clr_high)\n",
    "    cont, h = cv2.findContours( mask, cv2.RETR_TREE, cv2.CHAIN_APPROX_SIMPLE )\n",
    "    cont = sorted( cont,key=cv2.contourArea, reverse=True)\n",
    "    \n",
    "    \n",
    "    cv2.drawContours( img_out, cont, 0, (255,255,255), -1 )\n",
    "    cv2.drawContours( img_bgr, cont, 0, clr_high, 1 )\n",
    "    \n",
    "    \n",
    "    \"\"\"\n",
    "    for count, i in enumerate(cont[0]):\n",
    "        \n",
    "            \n",
    "        if count % 1 == 0:\n",
    "            cv2.line(out, (i[0][0], i[0][1]),\n",
    "                          (cont[0][len(cont[0]) - count - 1][0][0],\n",
    "                           cont[0][len(cont[0]) - count - 1][0][1]),\n",
    "                    (randint(0,255), randint(0,255), randint(0,255)), 2)\n",
    "            \n",
    "        out[i[0][1], i[0][0], 1] = 255\n",
    "    return cont[0]\n",
    "    \"\"\""
   ]
  },
  {
   "cell_type": "code",
   "execution_count": 33,
   "id": "6915b004",
   "metadata": {},
   "outputs": [],
   "source": [
    "def func(i):\n",
    "    #print(i['new'])\n",
    "    l.change_iter(i['new'])\n",
    "    l.show_img(True)\n",
    "    cv2.waitKey(1)"
   ]
  },
  {
   "cell_type": "code",
   "execution_count": null,
   "id": "124703f6",
   "metadata": {},
   "outputs": [],
   "source": []
  },
  {
   "cell_type": "code",
   "execution_count": 52,
   "id": "50632bb0",
   "metadata": {},
   "outputs": [
    {
     "data": {
      "application/vnd.jupyter.widget-view+json": {
       "model_id": "62e5f149a1a04b8e972c06c208bc6115",
       "version_major": 2,
       "version_minor": 0
      },
      "text/plain": [
       "IntSlider(value=1, continuous_update=False, description='Пикча:', max=24)"
      ]
     },
     "metadata": {},
     "output_type": "display_data"
    },
    {
     "data": {
      "application/vnd.jupyter.widget-view+json": {
       "model_id": "440bdb02493b4dc5966f0dae2fa1bdd7",
       "version_major": 2,
       "version_minor": 0
      },
      "text/plain": [
       "IntSlider(value=1, description='Hue:', max=24)"
      ]
     },
     "metadata": {},
     "output_type": "display_data"
    },
    {
     "data": {
      "application/vnd.jupyter.widget-view+json": {
       "model_id": "9653828b2701407eac8d2ab1b6c7c6d9",
       "version_major": 2,
       "version_minor": 0
      },
      "text/plain": [
       "IntSlider(value=1, continuous_update=False, description='Saturation:', max=24)"
      ]
     },
     "metadata": {},
     "output_type": "display_data"
    },
    {
     "data": {
      "application/vnd.jupyter.widget-view+json": {
       "model_id": "c7a2e8fc0cb94412aabfaa105a1d0fd8",
       "version_major": 2,
       "version_minor": 0
      },
      "text/plain": [
       "IntSlider(value=1, continuous_update=False, description='Value:', max=24)"
      ]
     },
     "metadata": {},
     "output_type": "display_data"
    }
   ],
   "source": [
    "picSlider = IntSlider(\n",
    "    value=1, # Первоначальное значение\n",
    "    min=0,     # Минимум\n",
    "    max=l.get_list_len(),  # Максимум\n",
    "    step=1,  # Шаг изменения\n",
    "    description='Пикча:',\n",
    "    continuous_update=False, #False,  # True - событие observe возникает для каждого шага при изменении значения\n",
    "    orientation='horizontal'  # Горизонтальное или вертикальное расположение\n",
    ")\n",
    "picSlider.observe(lambda i: func(i), names='value')\n",
    "\n",
    "hueSlider = IntSlider(\n",
    "    value=1, # Первоначальное значение\n",
    "    min=0,     # Минимум\n",
    "    max=l.get_list_len(),  # Максимум\n",
    "    step=1,  # Шаг изменения\n",
    "    description='Hue:',\n",
    "    continuous_update=True, #False,  # True - событие observe возникает для каждого шага при изменении значения\n",
    "    orientation='horizontal'  # Горизонтальное или вертикальное расположение\n",
    ")\n",
    "hueSlider.observe(lambda i: func(i), names='value')\n",
    "\n",
    "satSlider = IntSlider(\n",
    "    value=1, # Первоначальное значение\n",
    "    min=0,     # Минимум\n",
    "    max=l.get_list_len(),  # Максимум\n",
    "    step=1,  # Шаг изменения\n",
    "    description='Saturation:',\n",
    "    continuous_update=False, #False,  # True - событие observe возникает для каждого шага при изменении значения\n",
    "    orientation='horizontal'  # Горизонтальное или вертикальное расположение\n",
    ")\n",
    "satSlider.observe(lambda i: func(i), names='value')\n",
    "\n",
    "valSlider = IntSlider(\n",
    "    value=1, # Первоначальное значение\n",
    "    min=0,     # Минимум\n",
    "    max=l.get_list_len(),  # Максимум\n",
    "    step=1,  # Шаг изменения\n",
    "    description='Value:',\n",
    "    continuous_update=False, #False,  # True - событие observe возникает для каждого шага при изменении значения\n",
    "    orientation='horizontal'  # Горизонтальное или вертикальное расположение\n",
    ")\n",
    "valSlider.observe(lambda i: func(i), names='value')\n",
    "\n",
    "\n",
    "display(picSlider, hueSlider, satSlider, valSlider)"
   ]
  },
  {
   "cell_type": "code",
   "execution_count": null,
   "id": "375a742c",
   "metadata": {},
   "outputs": [],
   "source": [
    "\n"
   ]
  },
  {
   "cell_type": "code",
   "execution_count": null,
   "id": "5838f466",
   "metadata": {},
   "outputs": [],
   "source": []
  }
 ],
 "metadata": {
  "kernelspec": {
   "display_name": "Python 3 (ipykernel)",
   "language": "python",
   "name": "python3"
  },
  "language_info": {
   "codemirror_mode": {
    "name": "ipython",
    "version": 3
   },
   "file_extension": ".py",
   "mimetype": "text/x-python",
   "name": "python",
   "nbconvert_exporter": "python",
   "pygments_lexer": "ipython3",
   "version": "3.10.2"
  }
 },
 "nbformat": 4,
 "nbformat_minor": 5
}
