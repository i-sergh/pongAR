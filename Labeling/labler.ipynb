{
 "cells": [
  {
   "cell_type": "code",
   "execution_count": 1,
   "id": "adc50208",
   "metadata": {},
   "outputs": [],
   "source": [
    "import numpy as np\n",
    "import cv2"
   ]
  },
  {
   "cell_type": "code",
   "execution_count": 2,
   "id": "65f15d5b",
   "metadata": {},
   "outputs": [],
   "source": [
    "import matplotlib.pyplot as plt\n",
    "from matplotlib.colors import ListedColormap"
   ]
  },
  {
   "cell_type": "code",
   "execution_count": 3,
   "id": "908fb2dd",
   "metadata": {},
   "outputs": [],
   "source": [
    "from random import randint\n",
    "import os"
   ]
  },
  {
   "cell_type": "code",
   "execution_count": 4,
   "id": "ca77ed60",
   "metadata": {},
   "outputs": [],
   "source": [
    "from IPython.display import display\n",
    "from ipywidgets import IntSlider"
   ]
  },
  {
   "cell_type": "code",
   "execution_count": 5,
   "id": "481137bc",
   "metadata": {},
   "outputs": [],
   "source": [
    "%matplotlib notebook"
   ]
  },
  {
   "cell_type": "code",
   "execution_count": 6,
   "id": "10b0d686",
   "metadata": {},
   "outputs": [],
   "source": [
    "class Labler:\n",
    "    def __init__(self, path=None):\n",
    "        self.path = path\n",
    "        self.img_label_dict = {}\n",
    "        self.img_raw_dict = {}\n",
    "        self.img_list = []\n",
    "        self.iter = 0\n",
    "        \n",
    "    def get_img_list(self):\n",
    "        self.img_list = os.listdir(self.path)\n",
    "    \n",
    "    def create_label_arrays(self):\n",
    "        for filename in os.listdir(self.path):\n",
    "            if filename[-4:] == '.jpg':\n",
    "                self.img_list += [filename]\n",
    "                raw_img = cv2.imread(self.path + \"\\\\\" + filename)\n",
    "                self.img_raw_dict[filename] = raw_img\n",
    "                self.img_label_dict[filename] = np.zeros((raw_img.shape[0], raw_img.shape[1]), dtype=np.uint8()) \n",
    "    \n",
    "    def get_list_len (self):\n",
    "        return len(self.img_list) - 1\n",
    "    \n",
    "    def get_img (self):\n",
    "        return self.img_raw_dict[img_list[self.iter]]\n",
    "    \n",
    "    def get_label_img (self):\n",
    "        return self.img_label_dict[img_list[self.iter]] \n",
    "    def change_iter(self, new_iter):\n",
    "        self.iter = new_iter\n",
    "        \n",
    "    def show_img(self, and_label = False):\n",
    "        \n",
    "        print(self.iter)\n",
    "        cv2.imshow('', self.img_raw_dict[self.img_list[self.iter]])\n",
    "        if and_label:\n",
    "            cv2.imshow(' ', self.img_raw_dict[self.img_list[self.iter]])\n",
    "        cv2.waitKey(1)\n",
    "                      \n",
    "                \n",
    "l = Labler('raw_data')\n",
    "l.create_label_arrays()\n",
    "\n",
    "#for name in l.img_list:\n",
    "#    cv2.imshow(name, l.img_label_dict[name] )\n",
    "#    cv2.waitKey(0)\n",
    "#    cv2.destroyAllWindows()"
   ]
  },
  {
   "cell_type": "code",
   "execution_count": 9,
   "id": "9def5208",
   "metadata": {},
   "outputs": [],
   "source": [
    "cv2.destroyAllWindows()"
   ]
  },
  {
   "cell_type": "code",
   "execution_count": 50,
   "id": "ccdbc5eb",
   "metadata": {},
   "outputs": [],
   "source": [
    "def findAndDrawContour(img_bgr: np.array, img_out: np.array, \n",
    "                         clr_low: tuple, clr_high: tuple):\n",
    "    img_bgr_blur = cv2.blur( img_bgr, (30, 30) )\n",
    "    img_hsv = cv2.cvtColor( img_bgr_blur,\n",
    "                              cv2.COLOR_BGR2HSV )\n",
    "    mask = cv2.inRange(hsv, clr_low, clr_high)\n",
    "    cont, h = cv2.findContours( mask, cv2.RETR_TREE, cv2.CHAIN_APPROX_SIMPLE )\n",
    "    cont = sorted( cont,key=cv2.contourArea, reverse=True)\n",
    "    \n",
    "    \n",
    "    cv2.drawContours( out, cont, 0, (255,255,255), -1 )\n",
    "    \n",
    "    \n",
    "    \"\"\"\n",
    "    for count, i in enumerate(cont[0]):\n",
    "        \n",
    "            \n",
    "        if count % 1 == 0:\n",
    "            cv2.line(out, (i[0][0], i[0][1]),\n",
    "                          (cont[0][len(cont[0]) - count - 1][0][0],\n",
    "                           cont[0][len(cont[0]) - count - 1][0][1]),\n",
    "                    (randint(0,255), randint(0,255), randint(0,255)), 2)\n",
    "            \n",
    "        out[i[0][1], i[0][0], 1] = 255\n",
    "    return cont[0]\n",
    "    \"\"\""
   ]
  },
  {
   "cell_type": "code",
   "execution_count": 7,
   "id": "6915b004",
   "metadata": {},
   "outputs": [],
   "source": [
    "def func(i):\n",
    "    #print(i['new'])\n",
    "    l.change_iter(i['new'])\n",
    "    l.show_img()"
   ]
  },
  {
   "cell_type": "code",
   "execution_count": 8,
   "id": "50632bb0",
   "metadata": {},
   "outputs": [
    {
     "data": {
      "application/vnd.jupyter.widget-view+json": {
       "model_id": "0c9dec83e4b440f8a012085e0657fef7",
       "version_major": 2,
       "version_minor": 0
      },
      "text/plain": [
       "IntSlider(value=1, continuous_update=False, description='Эпох:', max=24)"
      ]
     },
     "metadata": {},
     "output_type": "display_data"
    },
    {
     "name": "stdout",
     "output_type": "stream",
     "text": [
      "3\n",
      "4\n",
      "7\n",
      "9\n",
      "12\n",
      "15\n",
      "18\n",
      "14\n",
      "10\n",
      "6\n",
      "2\n",
      "5\n",
      "2\n"
     ]
    }
   ],
   "source": [
    "iSlider = IntSlider(\n",
    "    value=1, # Первоначальное значение\n",
    "    min=0,     # Минимум\n",
    "    max=l.get_list_len(),  # Максимум\n",
    "    step=1,  # Шаг изменения\n",
    "    description='Эпох:',\n",
    "    continuous_update=False, #False,  # True - событие observe возникает для каждого шага при изменении значения\n",
    "    orientation='horizontal'  # Горизонтальное или вертикальное расположение\n",
    ")\n",
    "\n",
    "iSlider.observe(lambda i: func(i), names='value')\n",
    "display(iSlider)"
   ]
  },
  {
   "cell_type": "code",
   "execution_count": 15,
   "id": "9584a25a",
   "metadata": {},
   "outputs": [
    {
     "ename": "KeyboardInterrupt",
     "evalue": "Interrupted by user",
     "output_type": "error",
     "traceback": [
      "\u001b[1;31m---------------------------------------------------------------------------\u001b[0m",
      "\u001b[1;31mKeyboardInterrupt\u001b[0m                         Traceback (most recent call last)",
      "Input \u001b[1;32mIn [15]\u001b[0m, in \u001b[0;36m<cell line: 1>\u001b[1;34m()\u001b[0m\n\u001b[1;32m----> 1\u001b[0m n \u001b[38;5;241m=\u001b[39m \u001b[38;5;28mint\u001b[39m(\u001b[38;5;28;43minput\u001b[39;49m\u001b[43m(\u001b[49m\u001b[43m)\u001b[49m)\n\u001b[0;32m      2\u001b[0m a \u001b[38;5;241m=\u001b[39m \u001b[38;5;28minput\u001b[39m()\n\u001b[0;32m      4\u001b[0m \u001b[38;5;28mlist\u001b[39m(\u001b[38;5;28mmap\u001b[39m( \u001b[38;5;28mfloat\u001b[39m, a\u001b[38;5;241m.\u001b[39msplit()))\n",
      "File \u001b[1;32m~\\venvs\\mlvenv\\lib\\site-packages\\ipykernel\\kernelbase.py:1165\u001b[0m, in \u001b[0;36mKernel.raw_input\u001b[1;34m(self, prompt)\u001b[0m\n\u001b[0;32m   1161\u001b[0m \u001b[38;5;28;01mif\u001b[39;00m \u001b[38;5;129;01mnot\u001b[39;00m \u001b[38;5;28mself\u001b[39m\u001b[38;5;241m.\u001b[39m_allow_stdin:\n\u001b[0;32m   1162\u001b[0m     \u001b[38;5;28;01mraise\u001b[39;00m StdinNotImplementedError(\n\u001b[0;32m   1163\u001b[0m         \u001b[38;5;124m\"\u001b[39m\u001b[38;5;124mraw_input was called, but this frontend does not support input requests.\u001b[39m\u001b[38;5;124m\"\u001b[39m\n\u001b[0;32m   1164\u001b[0m     )\n\u001b[1;32m-> 1165\u001b[0m \u001b[38;5;28;01mreturn\u001b[39;00m \u001b[38;5;28;43mself\u001b[39;49m\u001b[38;5;241;43m.\u001b[39;49m\u001b[43m_input_request\u001b[49m\u001b[43m(\u001b[49m\n\u001b[0;32m   1166\u001b[0m \u001b[43m    \u001b[49m\u001b[38;5;28;43mstr\u001b[39;49m\u001b[43m(\u001b[49m\u001b[43mprompt\u001b[49m\u001b[43m)\u001b[49m\u001b[43m,\u001b[49m\n\u001b[0;32m   1167\u001b[0m \u001b[43m    \u001b[49m\u001b[38;5;28;43mself\u001b[39;49m\u001b[38;5;241;43m.\u001b[39;49m\u001b[43m_parent_ident\u001b[49m\u001b[43m[\u001b[49m\u001b[38;5;124;43m\"\u001b[39;49m\u001b[38;5;124;43mshell\u001b[39;49m\u001b[38;5;124;43m\"\u001b[39;49m\u001b[43m]\u001b[49m\u001b[43m,\u001b[49m\n\u001b[0;32m   1168\u001b[0m \u001b[43m    \u001b[49m\u001b[38;5;28;43mself\u001b[39;49m\u001b[38;5;241;43m.\u001b[39;49m\u001b[43mget_parent\u001b[49m\u001b[43m(\u001b[49m\u001b[38;5;124;43m\"\u001b[39;49m\u001b[38;5;124;43mshell\u001b[39;49m\u001b[38;5;124;43m\"\u001b[39;49m\u001b[43m)\u001b[49m\u001b[43m,\u001b[49m\n\u001b[0;32m   1169\u001b[0m \u001b[43m    \u001b[49m\u001b[43mpassword\u001b[49m\u001b[38;5;241;43m=\u001b[39;49m\u001b[38;5;28;43;01mFalse\u001b[39;49;00m\u001b[43m,\u001b[49m\n\u001b[0;32m   1170\u001b[0m \u001b[43m\u001b[49m\u001b[43m)\u001b[49m\n",
      "File \u001b[1;32m~\\venvs\\mlvenv\\lib\\site-packages\\ipykernel\\kernelbase.py:1207\u001b[0m, in \u001b[0;36mKernel._input_request\u001b[1;34m(self, prompt, ident, parent, password)\u001b[0m\n\u001b[0;32m   1204\u001b[0m             \u001b[38;5;28;01mbreak\u001b[39;00m\n\u001b[0;32m   1205\u001b[0m \u001b[38;5;28;01mexcept\u001b[39;00m \u001b[38;5;167;01mKeyboardInterrupt\u001b[39;00m:\n\u001b[0;32m   1206\u001b[0m     \u001b[38;5;66;03m# re-raise KeyboardInterrupt, to truncate traceback\u001b[39;00m\n\u001b[1;32m-> 1207\u001b[0m     \u001b[38;5;28;01mraise\u001b[39;00m \u001b[38;5;167;01mKeyboardInterrupt\u001b[39;00m(\u001b[38;5;124m\"\u001b[39m\u001b[38;5;124mInterrupted by user\u001b[39m\u001b[38;5;124m\"\u001b[39m) \u001b[38;5;28;01mfrom\u001b[39;00m \u001b[38;5;28mNone\u001b[39m\n\u001b[0;32m   1208\u001b[0m \u001b[38;5;28;01mexcept\u001b[39;00m \u001b[38;5;167;01mException\u001b[39;00m:\n\u001b[0;32m   1209\u001b[0m     \u001b[38;5;28mself\u001b[39m\u001b[38;5;241m.\u001b[39mlog\u001b[38;5;241m.\u001b[39mwarning(\u001b[38;5;124m\"\u001b[39m\u001b[38;5;124mInvalid Message:\u001b[39m\u001b[38;5;124m\"\u001b[39m, exc_info\u001b[38;5;241m=\u001b[39m\u001b[38;5;28;01mTrue\u001b[39;00m)\n",
      "\u001b[1;31mKeyboardInterrupt\u001b[0m: Interrupted by user"
     ]
    }
   ],
   "source": [
    "n = int(input())\n",
    "a = input()\n",
    "\n",
    "list(map( float, a.split()))\n",
    "list(map( float, b.split()))\n"
   ]
  },
  {
   "cell_type": "code",
   "execution_count": 10,
   "id": "375a742c",
   "metadata": {},
   "outputs": [
    {
     "data": {
      "text/plain": [
       "['a', 'b']"
      ]
     },
     "execution_count": 10,
     "metadata": {},
     "output_type": "execute_result"
    }
   ],
   "source": [
    "\n"
   ]
  },
  {
   "cell_type": "code",
   "execution_count": null,
   "id": "5838f466",
   "metadata": {},
   "outputs": [],
   "source": []
  }
 ],
 "metadata": {
  "kernelspec": {
   "display_name": "Python 3 (ipykernel)",
   "language": "python",
   "name": "python3"
  },
  "language_info": {
   "codemirror_mode": {
    "name": "ipython",
    "version": 3
   },
   "file_extension": ".py",
   "mimetype": "text/x-python",
   "name": "python",
   "nbconvert_exporter": "python",
   "pygments_lexer": "ipython3",
   "version": "3.10.2"
  }
 },
 "nbformat": 4,
 "nbformat_minor": 5
}
